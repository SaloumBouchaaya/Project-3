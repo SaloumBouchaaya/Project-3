{
 "cells": [
  {
   "cell_type": "code",
   "execution_count": 2,
   "metadata": {},
   "outputs": [],
   "source": [
    "# Dependencies and Setup\n",
    "import matplotlib.pyplot as plt\n",
    "import matplotlib.dates as mdates\n",
    "import pandas as pd\n",
    "import numpy as np\n",
    "import requests\n",
    "import time\n",
    "from pprint import pprint\n",
    "from scipy.stats import linregress\n",
    "from datetime import datetime\n",
    "from yelpapi import YelpAPI\n",
    "\n",
    "# Impor the API key\n",
    "from config import api_key"
   ]
  },
  {
   "cell_type": "code",
   "execution_count": 4,
   "metadata": {},
   "outputs": [
    {
     "name": "stdout",
     "output_type": "stream",
     "text": [
      "Retrieved 50 results with 1 API calls\n",
      "Retrieved 100 results with 2 API calls\n",
      "Retrieved 150 results with 3 API calls\n",
      "Retrieved 200 results with 4 API calls\n"
     ]
    },
    {
     "ename": "HTTPError",
     "evalue": "400 Client Error: Bad Request for url: https://api.yelp.com/v3/businesses/search?term=restaurants&location=New+York+City%2C+NY&limit=50&offset=200",
     "output_type": "error",
     "traceback": [
      "\u001b[1;31m---------------------------------------------------------------------------\u001b[0m",
      "\u001b[1;31mHTTPError\u001b[0m                                 Traceback (most recent call last)",
      "Cell \u001b[1;32mIn[4], line 19\u001b[0m\n\u001b[0;32m     16\u001b[0m calls_made \u001b[38;5;241m=\u001b[39m \u001b[38;5;241m0\u001b[39m  \u001b[38;5;66;03m# counter for API calls made\u001b[39;00m\n\u001b[0;32m     18\u001b[0m \u001b[38;5;28;01mwhile\u001b[39;00m offset \u001b[38;5;241m<\u001b[39m daily_results_limit \u001b[38;5;129;01mand\u001b[39;00m calls_made \u001b[38;5;241m<\u001b[39m api_call_limit:\n\u001b[1;32m---> 19\u001b[0m     response \u001b[38;5;241m=\u001b[39m yelp_api\u001b[38;5;241m.\u001b[39msearch_query(term\u001b[38;5;241m=\u001b[39msearch_term, location\u001b[38;5;241m=\u001b[39mlocation, limit\u001b[38;5;241m=\u001b[39mlimit, offset\u001b[38;5;241m=\u001b[39moffset)\n\u001b[0;32m     20\u001b[0m     results\u001b[38;5;241m.\u001b[39mextend(response[\u001b[38;5;124m'\u001b[39m\u001b[38;5;124mbusinesses\u001b[39m\u001b[38;5;124m'\u001b[39m])  \u001b[38;5;66;03m# Extend the list with new businesses\u001b[39;00m\n\u001b[0;32m     21\u001b[0m     offset \u001b[38;5;241m+\u001b[39m\u001b[38;5;241m=\u001b[39m limit  \u001b[38;5;66;03m# Increment the offset by the limit\u001b[39;00m\n",
      "File \u001b[1;32mc:\\Users\\papad\\anaconda3\\Lib\\site-packages\\yelpapi\\yelpapi.py:251\u001b[0m, in \u001b[0;36mYelpAPI.search_query\u001b[1;34m(self, **kwargs)\u001b[0m\n\u001b[0;32m    247\u001b[0m \u001b[38;5;28;01mif\u001b[39;00m \u001b[38;5;129;01mnot\u001b[39;00m kwargs\u001b[38;5;241m.\u001b[39mget(\u001b[38;5;124m'\u001b[39m\u001b[38;5;124mlocation\u001b[39m\u001b[38;5;124m'\u001b[39m) \u001b[38;5;129;01mand\u001b[39;00m (\u001b[38;5;129;01mnot\u001b[39;00m kwargs\u001b[38;5;241m.\u001b[39mget(\u001b[38;5;124m'\u001b[39m\u001b[38;5;124mlatitude\u001b[39m\u001b[38;5;124m'\u001b[39m) \u001b[38;5;129;01mor\u001b[39;00m \u001b[38;5;129;01mnot\u001b[39;00m kwargs\u001b[38;5;241m.\u001b[39mget(\u001b[38;5;124m'\u001b[39m\u001b[38;5;124mlongitude\u001b[39m\u001b[38;5;124m'\u001b[39m)):\n\u001b[0;32m    248\u001b[0m     \u001b[38;5;28;01mraise\u001b[39;00m \u001b[38;5;167;01mValueError\u001b[39;00m(\u001b[38;5;124m'\u001b[39m\u001b[38;5;124mA valid location (parameter \u001b[39m\u001b[38;5;124m\"\u001b[39m\u001b[38;5;124mlocation\u001b[39m\u001b[38;5;124m\"\u001b[39m\u001b[38;5;124m) or latitude/longitude combination \u001b[39m\u001b[38;5;124m'\u001b[39m\n\u001b[0;32m    249\u001b[0m                      \u001b[38;5;124m'\u001b[39m\u001b[38;5;124m(parameters \u001b[39m\u001b[38;5;124m\"\u001b[39m\u001b[38;5;124mlatitude\u001b[39m\u001b[38;5;124m\"\u001b[39m\u001b[38;5;124m and \u001b[39m\u001b[38;5;124m\"\u001b[39m\u001b[38;5;124mlongitude\u001b[39m\u001b[38;5;124m\"\u001b[39m\u001b[38;5;124m) must be provided.\u001b[39m\u001b[38;5;124m'\u001b[39m)\n\u001b[1;32m--> 251\u001b[0m \u001b[38;5;28;01mreturn\u001b[39;00m \u001b[38;5;28mself\u001b[39m\u001b[38;5;241m.\u001b[39m_query(SEARCH_API_URL, \u001b[38;5;241m*\u001b[39m\u001b[38;5;241m*\u001b[39mkwargs)\n",
      "File \u001b[1;32mc:\\Users\\papad\\anaconda3\\Lib\\site-packages\\yelpapi\\yelpapi.py:293\u001b[0m, in \u001b[0;36mYelpAPI._query\u001b[1;34m(self, url, **kwargs)\u001b[0m\n\u001b[0;32m    286\u001b[0m parameters \u001b[38;5;241m=\u001b[39m YelpAPI\u001b[38;5;241m.\u001b[39m_get_clean_parameters(kwargs)\n\u001b[0;32m    287\u001b[0m response \u001b[38;5;241m=\u001b[39m \u001b[38;5;28mself\u001b[39m\u001b[38;5;241m.\u001b[39m_yelp_session\u001b[38;5;241m.\u001b[39mget(\n\u001b[0;32m    288\u001b[0m     url,\n\u001b[0;32m    289\u001b[0m     headers\u001b[38;5;241m=\u001b[39m\u001b[38;5;28mself\u001b[39m\u001b[38;5;241m.\u001b[39m_headers,\n\u001b[0;32m    290\u001b[0m     params\u001b[38;5;241m=\u001b[39mparameters,\n\u001b[0;32m    291\u001b[0m     timeout\u001b[38;5;241m=\u001b[39m\u001b[38;5;28mself\u001b[39m\u001b[38;5;241m.\u001b[39m_timeout_s,\n\u001b[0;32m    292\u001b[0m )\n\u001b[1;32m--> 293\u001b[0m response\u001b[38;5;241m.\u001b[39mraise_for_status()  \u001b[38;5;66;03m# will raise error if error status code received: https://requests.readthedocs.io/en/latest/api/#requests.Response.raise_for_status\u001b[39;00m\n\u001b[0;32m    295\u001b[0m response_json \u001b[38;5;241m=\u001b[39m response\u001b[38;5;241m.\u001b[39mjson()  \u001b[38;5;66;03m# shouldn't happen, but this will raise a ValueError if the response isn't JSON\u001b[39;00m\n\u001b[0;32m    297\u001b[0m \u001b[38;5;66;03m# Yelp can return one of many different API errors, so check for one of them.\u001b[39;00m\n\u001b[0;32m    298\u001b[0m \u001b[38;5;66;03m# The Yelp Fusion API does not yet have a complete list of errors, but this is on the TODO list; see\u001b[39;00m\n\u001b[0;32m    299\u001b[0m \u001b[38;5;66;03m# https://github.com/Yelp/yelp-fusion/issues/95 for more info.\u001b[39;00m\n",
      "File \u001b[1;32mc:\\Users\\papad\\anaconda3\\Lib\\site-packages\\requests\\models.py:1024\u001b[0m, in \u001b[0;36mResponse.raise_for_status\u001b[1;34m(self)\u001b[0m\n\u001b[0;32m   1019\u001b[0m     http_error_msg \u001b[38;5;241m=\u001b[39m (\n\u001b[0;32m   1020\u001b[0m         \u001b[38;5;124mf\u001b[39m\u001b[38;5;124m\"\u001b[39m\u001b[38;5;132;01m{\u001b[39;00m\u001b[38;5;28mself\u001b[39m\u001b[38;5;241m.\u001b[39mstatus_code\u001b[38;5;132;01m}\u001b[39;00m\u001b[38;5;124m Server Error: \u001b[39m\u001b[38;5;132;01m{\u001b[39;00mreason\u001b[38;5;132;01m}\u001b[39;00m\u001b[38;5;124m for url: \u001b[39m\u001b[38;5;132;01m{\u001b[39;00m\u001b[38;5;28mself\u001b[39m\u001b[38;5;241m.\u001b[39murl\u001b[38;5;132;01m}\u001b[39;00m\u001b[38;5;124m\"\u001b[39m\n\u001b[0;32m   1021\u001b[0m     )\n\u001b[0;32m   1023\u001b[0m \u001b[38;5;28;01mif\u001b[39;00m http_error_msg:\n\u001b[1;32m-> 1024\u001b[0m     \u001b[38;5;28;01mraise\u001b[39;00m HTTPError(http_error_msg, response\u001b[38;5;241m=\u001b[39m\u001b[38;5;28mself\u001b[39m)\n",
      "\u001b[1;31mHTTPError\u001b[0m: 400 Client Error: Bad Request for url: https://api.yelp.com/v3/businesses/search?term=restaurants&location=New+York+City%2C+NY&limit=50&offset=200"
     ]
    }
   ],
   "source": [
    "finished_url = f\"https://api.yelp.com/v3/businesses/north-india-restaurant-san-francisco\"\n",
    "#result_data = requests.get(finished_url).json()\n",
    "#pprint(result_data)\n",
    "\n",
    "yelp_api = YelpAPI(api_key)\n",
    "search_term = 'restaurants'\n",
    "location = 'New York City, NY'\n",
    "limit = 50  # maximum number of results to return\n",
    "daily_results_limit = 12500 # update this by 12500 every day\n",
    "offset = 0 # update this by 12500 every day\n",
    "\n",
    "# response = yelp_api.search_query(term=search_term, location=location, limit=limit)\n",
    "# pprint(response)\n",
    "results = []\n",
    "api_call_limit = 10  # total API call limit for the day\n",
    "calls_made = 0  # counter for API calls made\n",
    "\n",
    "while offset < daily_results_limit and calls_made < api_call_limit:\n",
    "    response = yelp_api.search_query(term=search_term, location=location, limit=limit, offset=offset)\n",
    "    results.extend(response['businesses'])  # Extend the list with new businesses\n",
    "    offset += limit  # Increment the offset by the limit\n",
    "    calls_made += 1  # Increment the API call counter\n",
    "    \n",
    "    # Print progress\n",
    "    print(f'Retrieved {len(results)} results with {calls_made} API calls')\n",
    "\n",
    "    # Avoid hitting rate limits by adding a delay\n",
    "    time.sleep(1)  # Delay for 1 second"
   ]
  },
  {
   "cell_type": "code",
   "execution_count": null,
   "metadata": {},
   "outputs": [],
   "source": [
    "# This code was for testing and looking at how we wanted to pull the data\n",
    "\n",
    "# print(response['businesses'][0]['name'])\n",
    "# print(f\"{response['businesses'][0]['rating']} ({response['businesses'][0]['review_count']})\")\n",
    "# print(response['businesses'][0]['price'])\n",
    "# print(response['businesses'][0]['display_phone'])\n",
    "# print(f\"Latitiude: {response['businesses'][0]['coordinates']['latitude']}, Longitude: {response['businesses'][0]['coordinates']['longitude']}\")\n",
    "\n",
    "# test_categories = ''\n",
    "# for alias in response['businesses'][0]['categories']:\n",
    "#     test_categories = test_categories + '/' + alias['title']\n",
    "# print(test_categories)\n",
    "\n",
    "# test_transactions = ''\n",
    "# for type in response['businesses'][0]['transactions']:\n",
    "#     test_transactions = test_transactions + '/' + type\n",
    "# print(test_transactions)"
   ]
  },
  {
   "cell_type": "code",
   "execution_count": 5,
   "metadata": {},
   "outputs": [],
   "source": [
    "restaurant_data = []\n",
    "count = 0\n",
    "for restaurant in results:\n",
    "    name = restaurant['name']\n",
    "    rating = restaurant['rating']\n",
    "    review_count = restaurant['review_count']\n",
    "    try:\n",
    "        price = restaurant['price']\n",
    "    except KeyError:\n",
    "        price = '???'\n",
    "    phone_number = restaurant['display_phone']\n",
    "    latitiude = restaurant['coordinates']['latitude']\n",
    "    longitude = restaurant['coordinates']['longitude']\n",
    "\n",
    "    categories = ''\n",
    "    x = 0\n",
    "    for alias in restaurant['categories']:\n",
    "        if x == 0:\n",
    "            categories = alias['title']\n",
    "            x += 1\n",
    "        else:\n",
    "            categories = categories + '/' + alias['title']\n",
    "\n",
    "    transactions = ''\n",
    "    x = 0\n",
    "    for type in restaurant['transactions']:\n",
    "        if x == 0:\n",
    "            transactions = type\n",
    "            x += 1\n",
    "        else:\n",
    "            transactions = transactions + '/' + type\n",
    "\n",
    "    restaurant_data.append({'Name':name,\n",
    "                            'Rating':rating,\n",
    "                            'Review Count':review_count,\n",
    "                            'Price':price,\n",
    "                            'Phone Number':phone_number,\n",
    "                            'Latitiude':latitiude,\n",
    "                            'Longitude':longitude,\n",
    "                            'Categories':categories,\n",
    "                            'Transactions':transactions})\n",
    "    count += 1\n",
    "\n",
    "restaurant_data_df = pd.DataFrame(restaurant_data)\n",
    "restaurant_data_df.to_csv(\"data/restaurant_data.csv\",mode='a',header=False)"
   ]
  }
 ],
 "metadata": {
  "kernelspec": {
   "display_name": "base",
   "language": "python",
   "name": "python3"
  },
  "language_info": {
   "codemirror_mode": {
    "name": "ipython",
    "version": 3
   },
   "file_extension": ".py",
   "mimetype": "text/x-python",
   "name": "python",
   "nbconvert_exporter": "python",
   "pygments_lexer": "ipython3",
   "version": "3.12.4"
  }
 },
 "nbformat": 4,
 "nbformat_minor": 2
}
